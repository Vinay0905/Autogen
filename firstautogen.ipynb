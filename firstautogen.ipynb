{
 "cells": [
  {
   "cell_type": "code",
   "execution_count": 1,
   "id": "d3226d06",
   "metadata": {},
   "outputs": [
    {
     "name": "stdout",
     "output_type": "stream",
     "text": [
      "all good?\n"
     ]
    }
   ],
   "source": [
    "print(\"all good?\")"
   ]
  },
  {
   "cell_type": "code",
   "execution_count": 2,
   "id": "bc311578",
   "metadata": {},
   "outputs": [],
   "source": [
    "import os"
   ]
  },
  {
   "cell_type": "code",
   "execution_count": 3,
   "id": "befe94fc",
   "metadata": {},
   "outputs": [],
   "source": [
    "from dotenv import load_dotenv"
   ]
  },
  {
   "cell_type": "code",
   "execution_count": 4,
   "id": "bbec75c6",
   "metadata": {},
   "outputs": [
    {
     "data": {
      "text/plain": [
       "True"
      ]
     },
     "execution_count": 4,
     "metadata": {},
     "output_type": "execute_result"
    }
   ],
   "source": [
    "load_dotenv()"
   ]
  },
  {
   "cell_type": "code",
   "execution_count": 5,
   "id": "5556d49d",
   "metadata": {},
   "outputs": [],
   "source": [
    "from autogen_agentchat.agents import AssistantAgent\n",
    "from autogen_ext.models.openai import OpenAIChatCompletionClient\n",
    "from dotenv import load_dotenv\n",
    "import os"
   ]
  },
  {
   "cell_type": "code",
   "execution_count": 6,
   "id": "7313e006",
   "metadata": {},
   "outputs": [],
   "source": [
    "load_dotenv()\n",
    "\n",
    "api_key=os.getenv(\"OPENAI_API_KEY\")"
   ]
  },
  {
   "cell_type": "code",
   "execution_count": 7,
   "id": "04586abe",
   "metadata": {},
   "outputs": [],
   "source": [
    "model_client=OpenAIChatCompletionClient(model='gpt-4o',api_key=api_key)"
   ]
  },
  {
   "cell_type": "code",
   "execution_count": 8,
   "id": "d831173d",
   "metadata": {},
   "outputs": [],
   "source": [
    "agent_1=AssistantAgent(name='my_assistant',model_client=model_client)"
   ]
  },
  {
   "cell_type": "code",
   "execution_count": 9,
   "id": "ad487899",
   "metadata": {},
   "outputs": [],
   "source": [
    "result =await agent_1.run(task='Tell me something about you.')"
   ]
  },
  {
   "cell_type": "code",
   "execution_count": 10,
   "id": "89d3e6c5",
   "metadata": {},
   "outputs": [
    {
     "name": "stdout",
     "output_type": "stream",
     "text": [
      "messages=[TextMessage(id='26102440-a08a-427f-a017-1d871facf286', source='user', models_usage=None, metadata={}, created_at=datetime.datetime(2025, 7, 20, 3, 35, 26, 861420, tzinfo=datetime.timezone.utc), content='Tell me something about you.', type='TextMessage'), TextMessage(id='ec26013f-4164-425c-ace9-780c894fe237', source='my_assistant', models_usage=RequestUsage(prompt_tokens=42, completion_tokens=98), metadata={}, created_at=datetime.datetime(2025, 7, 20, 3, 35, 31, 131901, tzinfo=datetime.timezone.utc), content=\"I am an AI developed to assist with a wide range of tasks by providing information, answering questions, and performing problem-solving activities. My goal is to help users by leveraging the data I've been trained on, which includes a diverse array of topics up until October 2023. I don't have personal experiences or emotions, but I'm here to help make your life easier by providing accurate and helpful responses to your inquiries. If there's anything specific you'd like assistance with, feel free to let me know!\", type='TextMessage')] stop_reason=None\n"
     ]
    }
   ],
   "source": [
    "print(result)"
   ]
  },
  {
   "cell_type": "code",
   "execution_count": null,
   "id": "1494534d",
   "metadata": {},
   "outputs": [],
   "source": []
  },
  {
   "cell_type": "markdown",
   "id": "1152b173",
   "metadata": {},
   "source": [
    "messages=[TextMessage(id='26102440-a08a-427f-a017-1d871facf286', source='user', models_usage=None, metadata={}, created_at=datetime.datetime(2025, 7, 20, 3, 35, 26, 861420, tzinfo=datetime.timezone.utc), content='Tell me something about you.', type='TextMessage'), TextMessage(id='ec26013f-4164-425c-ace9-780c894fe237', source='my_assistant', models_usage=RequestUsage(prompt_tokens=42, completion_tokens=98), metadata={}, created_at=datetime.datetime(2025, 7, 20, 3, 35, 31, 131901, tzinfo=datetime.timezone.utc), content=\"I am an AI developed to assist with a wide range of tasks by providing information, answering questions, and performing problem-solving activities. My goal is to help users by leveraging the data I've been trained on, which includes a diverse array of topics up until October 2023. I don't have personal experiences or emotions, but I'm here to help make your life easier by providing accurate and helpful responses to your inquiries. If there's anything specific you'd like assistance with, feel free to let me know!\", type='TextMessage')] stop_reason=None\n"
   ]
  },
  {
   "cell_type": "code",
   "execution_count": 13,
   "id": "357fb241",
   "metadata": {},
   "outputs": [
    {
     "name": "stdout",
     "output_type": "stream",
     "text": [
      "finish_reason='stop' content='Paris\\n' usage=RequestUsage(prompt_tokens=7, completion_tokens=2) cached=False logprobs=None thought=None\n"
     ]
    }
   ],
   "source": [
    "from autogen_core.models import UserMessage\n",
    "from autogen_ext.models.openai import OpenAIChatCompletionClient\n",
    "load_dotenv()\n",
    "model_client = OpenAIChatCompletionClient(\n",
    "    model=\"gemini-1.5-flash-8b\",\n",
    "    api_key=os.getenv(\"GEMENI_APIKEY\"),\n",
    ")\n",
    "\n",
    "response = await model_client.create([UserMessage(content=\"What is the capital of France?\", source=\"user\")])\n",
    "print(response)\n",
    "await model_client.close()\n"
   ]
  },
  {
   "cell_type": "code",
   "execution_count": null,
   "id": "2982da70",
   "metadata": {},
   "outputs": [],
   "source": []
  }
 ],
 "metadata": {
  "kernelspec": {
   "display_name": "venv",
   "language": "python",
   "name": "python3"
  },
  "language_info": {
   "codemirror_mode": {
    "name": "ipython",
    "version": 3
   },
   "file_extension": ".py",
   "mimetype": "text/x-python",
   "name": "python",
   "nbconvert_exporter": "python",
   "pygments_lexer": "ipython3",
   "version": "3.13.0"
  }
 },
 "nbformat": 4,
 "nbformat_minor": 5
}
