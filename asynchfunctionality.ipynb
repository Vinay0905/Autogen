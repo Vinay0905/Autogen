{
 "cells": [
  {
   "cell_type": "code",
   "execution_count": 1,
   "id": "9f4c54cd",
   "metadata": {},
   "outputs": [
    {
     "name": "stdout",
     "output_type": "stream",
     "text": [
      "allok?\n"
     ]
    }
   ],
   "source": [
    "print(\"allok?\")"
   ]
  },
  {
   "cell_type": "code",
   "execution_count": 2,
   "metadata": {},
   "outputs": [
    {
     "name": "stdout",
     "output_type": "stream",
     "text": [
      "Hellow i am the first function?\n",
      "hello i am the second function? \n",
      "Done\n"
     ]
    }
   ],
   "source": [
    "def fun1():\n",
    "    print(\"Hellow i am the first function?\")\n",
    "\n",
    "def fun2():\n",
    "    print(\"hello i am the second function? \")\n",
    "\n",
    "\n",
    "fun1()\n",
    "fun2()\n",
    "print(\"Done\")"
   ]
  },
  {
   "cell_type": "code",
   "execution_count": 5,
   "id": "5d167ebd",
   "metadata": {},
   "outputs": [],
   "source": [
    "import time\n",
    "\n"
   ]
  },
  {
   "cell_type": "code",
   "execution_count": null,
   "id": "2880a1ae",
   "metadata": {},
   "outputs": [],
   "source": []
  }
 ],
 "metadata": {
  "kernelspec": {
   "display_name": "base",
   "language": "python",
   "name": "python3"
  },
  "language_info": {
   "codemirror_mode": {
    "name": "ipython",
    "version": 3
   },
   "file_extension": ".py",
   "mimetype": "text/x-python",
   "name": "python",
   "nbconvert_exporter": "python",
   "pygments_lexer": "ipython3",
   "version": "3.13.5"
  }
 },
 "nbformat": 4,
 "nbformat_minor": 5
}
